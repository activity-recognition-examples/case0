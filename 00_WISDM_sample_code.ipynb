{
 "cells": [
  {
   "cell_type": "code",
   "execution_count": 4,
   "metadata": {},
   "outputs": [],
   "source": [
    "import pandas as pd\n",
    "import numpy as np\n",
    "from scipy.fftpack import fft\n",
    "from scipy.signal import find_peaks\n",
    "from sklearn.model_selection import train_test_split\n",
    "from sklearn.preprocessing import StandardScaler, LabelEncoder\n",
    "from sklearn.ensemble import RandomForestClassifier\n",
    "from sklearn.metrics import classification_report, confusion_matrix, accuracy_score"
   ]
  },
  {
   "cell_type": "code",
   "execution_count": null,
   "metadata": {},
   "outputs": [],
   "source": [
    "# WISDMデータセットのダウンロード\n",
    "!wget \"http://www.cis.fordham.edu/wisdm/includes/datasets/latest/WISDM_ar_latest.tar.gz\""
   ]
  },
  {
   "cell_type": "code",
   "execution_count": 15,
   "metadata": {},
   "outputs": [],
   "source": [
    "# 圧縮ファイルの解凍\n",
    "!tar -xzf \"WISDM_ar_latest.tar.gz\""
   ]
  },
  {
   "cell_type": "code",
   "execution_count": 17,
   "metadata": {},
   "outputs": [],
   "source": [
    "# データの読み込み\n",
    "column_names = [\"user\", \"activity\", \"timestamp\", \"x-axis\", \"y-axis\", \"z-axis\"]\n",
    "\n",
    "file = open('WISDM_ar_v1.1/WISDM_ar_v1.1_raw.txt')\n",
    "lines = file.readlines()\n",
    "\n",
    "processedList = []\n",
    "\n",
    "for i, line in enumerate(lines):\n",
    "    try:\n",
    "        line = line.split(',')\n",
    "        last = line[5].split(';')[0]\n",
    "        last = last.strip()\n",
    "        if last == '':\n",
    "            break;\n",
    "        temp = [line[0], line[1], line[2], line[3], line[4], last]\n",
    "        processedList.append(temp)\n",
    "    except:\n",
    "        pass"
   ]
  },
  {
   "cell_type": "code",
   "execution_count": 7,
   "metadata": {},
   "outputs": [
    {
     "data": {
      "text/html": [
       "<div>\n",
       "<style scoped>\n",
       "    .dataframe tbody tr th:only-of-type {\n",
       "        vertical-align: middle;\n",
       "    }\n",
       "\n",
       "    .dataframe tbody tr th {\n",
       "        vertical-align: top;\n",
       "    }\n",
       "\n",
       "    .dataframe thead th {\n",
       "        text-align: right;\n",
       "    }\n",
       "</style>\n",
       "<table border=\"1\" class=\"dataframe\">\n",
       "  <thead>\n",
       "    <tr style=\"text-align: right;\">\n",
       "      <th></th>\n",
       "      <th>user</th>\n",
       "      <th>activity</th>\n",
       "      <th>timestamp</th>\n",
       "      <th>x-axis</th>\n",
       "      <th>y-axis</th>\n",
       "      <th>z-axis</th>\n",
       "    </tr>\n",
       "  </thead>\n",
       "  <tbody>\n",
       "    <tr>\n",
       "      <th>0</th>\n",
       "      <td>33</td>\n",
       "      <td>Jogging</td>\n",
       "      <td>49105962326000</td>\n",
       "      <td>-0.694638</td>\n",
       "      <td>12.680544</td>\n",
       "      <td>0.503953</td>\n",
       "    </tr>\n",
       "    <tr>\n",
       "      <th>1</th>\n",
       "      <td>33</td>\n",
       "      <td>Jogging</td>\n",
       "      <td>49106062271000</td>\n",
       "      <td>5.012288</td>\n",
       "      <td>11.264028</td>\n",
       "      <td>0.953424</td>\n",
       "    </tr>\n",
       "    <tr>\n",
       "      <th>2</th>\n",
       "      <td>33</td>\n",
       "      <td>Jogging</td>\n",
       "      <td>49106112167000</td>\n",
       "      <td>4.903325</td>\n",
       "      <td>10.882658</td>\n",
       "      <td>-0.081722</td>\n",
       "    </tr>\n",
       "    <tr>\n",
       "      <th>3</th>\n",
       "      <td>33</td>\n",
       "      <td>Jogging</td>\n",
       "      <td>49106222305000</td>\n",
       "      <td>-0.612916</td>\n",
       "      <td>18.496431</td>\n",
       "      <td>3.023717</td>\n",
       "    </tr>\n",
       "    <tr>\n",
       "      <th>4</th>\n",
       "      <td>33</td>\n",
       "      <td>Jogging</td>\n",
       "      <td>49106332290000</td>\n",
       "      <td>-1.184970</td>\n",
       "      <td>12.108489</td>\n",
       "      <td>7.205164</td>\n",
       "    </tr>\n",
       "  </tbody>\n",
       "</table>\n",
       "</div>"
      ],
      "text/plain": [
       "  user activity       timestamp    x-axis     y-axis    z-axis\n",
       "0   33  Jogging  49105962326000 -0.694638  12.680544  0.503953\n",
       "1   33  Jogging  49106062271000  5.012288  11.264028  0.953424\n",
       "2   33  Jogging  49106112167000  4.903325  10.882658 -0.081722\n",
       "3   33  Jogging  49106222305000 -0.612916  18.496431  3.023717\n",
       "4   33  Jogging  49106332290000 -1.184970  12.108489  7.205164"
      ]
     },
     "execution_count": 7,
     "metadata": {},
     "output_type": "execute_result"
    }
   ],
   "source": [
    "data = pd.DataFrame(data = processedList, columns = column_names )\n",
    "data['x-axis'] = data['x-axis'].astype(float)\n",
    "data['y-axis'] = data['y-axis'].astype(float)\n",
    "data['z-axis'] = data['z-axis'].astype(float)\n",
    "data.head()"
   ]
  },
  {
   "cell_type": "code",
   "execution_count": 8,
   "metadata": {},
   "outputs": [],
   "source": [
    "# 欠損値の除去\n",
    "data.dropna(axis=0, how=\"any\", inplace=True)\n",
    "\n",
    "# タイムスタンプの除去（この例では使用しないため）\n",
    "data.drop([\"timestamp\"], axis=1, inplace=True)\n",
    "\n",
    "# ラベルエンコーダーのインスタンス化\n",
    "le = LabelEncoder()\n",
    "data[\"activity\"] = le.fit_transform(data[\"activity\"])"
   ]
  },
  {
   "cell_type": "code",
   "execution_count": 9,
   "metadata": {},
   "outputs": [],
   "source": [
    "# 時系列データを固定長のセグメントに分割する関数を定義\n",
    "def create_segments(data, window_size=80, step_size=40):\n",
    "    segments = []\n",
    "    labels = []\n",
    "    for i in range(0, len(data) - window_size, step_size):\n",
    "        xs = data[\"x-axis\"].values[i:i + window_size]\n",
    "        ys = data[\"y-axis\"].values[i:i + window_size]\n",
    "        zs = data[\"z-axis\"].values[i:i + window_size]\n",
    "        label = data[\"activity\"].values[i]\n",
    "        segments.append([xs, ys, zs])\n",
    "        labels.append(label)\n",
    "    return segments, labels\n",
    "\n",
    "# 時間領域の特徴量抽出関数を定義\n",
    "def extract_time_features(segments):\n",
    "    features = []\n",
    "    for segment in segments:\n",
    "        xs, ys, zs = segment\n",
    "        mean_xs = np.mean(xs)\n",
    "        mean_ys = np.mean(ys)\n",
    "        mean_zs = np.mean(zs)\n",
    "        std_xs = np.std(xs)\n",
    "        std_ys = np.std(ys)\n",
    "        std_zs = np.std(zs)\n",
    "        features.append([mean_xs, mean_ys, mean_zs, std_xs, std_ys, std_zs])\n",
    "    return np.array(features)\n",
    "    \n",
    "# 周波数領域の特徴量抽出関数を定義\n",
    "def extract_frequency_features(segments, sampling_rate=50):\n",
    "    features = []\n",
    "    for segment in segments:\n",
    "        xs, ys, zs = segment\n",
    "        fft_xs = np.abs(fft(xs))\n",
    "        fft_ys = np.abs(fft(ys))\n",
    "        fft_zs = np.abs(fft(zs))\n",
    "\n",
    "       # Peak frequency and maximum amplitude\n",
    "        peak_indices_x, _ = find_peaks(fft_xs)\n",
    "        peak_indices_y, _ = find_peaks(fft_ys)\n",
    "        peak_indices_z, _ = find_peaks(fft_zs)\n",
    "        peak_freq_x = peak_indices_x[np.argmax(fft_xs[peak_indices_x])] / len(xs) * sampling_rate\n",
    "        peak_freq_y = peak_indices_y[np.argmax(fft_ys[peak_indices_y])] / len(ys) * sampling_rate\n",
    "        peak_freq_z = peak_indices_z[np.argmax(fft_zs[peak_indices_z])] / len(zs) * sampling_rate\n",
    "        max_amplitude_x = np.max(fft_xs[peak_indices_x])\n",
    "        max_amplitude_y = np.max(fft_ys[peak_indices_y])\n",
    "        max_amplitude_z = np.max(fft_zs[peak_indices_z])\n",
    "\n",
    "        # Signal energy\n",
    "        energy_x = np.sum(xs ** 2) / len(xs)\n",
    "        energy_y = np.sum(ys ** 2) / len(ys)\n",
    "        energy_z = np.sum(zs ** 2) / len(zs)\n",
    "\n",
    "        features.append([peak_freq_x, peak_freq_y, peak_freq_z, max_amplitude_x, max_amplitude_y, max_amplitude_z,\n",
    "                         energy_x, energy_y, energy_z])\n",
    "\n",
    "\n",
    "    return np.array(features)\n",
    "\n"
   ]
  },
  {
   "cell_type": "code",
   "execution_count": 10,
   "metadata": {},
   "outputs": [],
   "source": [
    "# セグメントを用意し、時間領域の特徴量と周波数領域の特徴量を抽出\n",
    "window_size = 80\n",
    "step_size = 40\n",
    "segments, labels = create_segments(data, window_size, step_size)\n",
    "\n",
    "time_features = extract_time_features(segments)\n",
    "frequency_features = extract_frequency_features(segments)\n",
    "\n",
    "# 時間領域の特徴量と周波数領域の特徴量を統合\n",
    "combined_features = np.concatenate((time_features, frequency_features), axis=1)\n",
    "\n",
    "# データセットの分割\n",
    "X = combined_features\n",
    "y = np.asarray(labels, dtype=np.float32)\n",
    "\n",
    "X_train, X_test, y_train, y_test = train_test_split(X, y, test_size=0.3, random_state=42)\n",
    "\n",
    "# データの正規化\n",
    "scaler = StandardScaler()\n",
    "X_train_scaled = scaler.fit_transform(X_train)\n",
    "X_test_scaled = scaler.transform(X_test)"
   ]
  },
  {
   "cell_type": "code",
   "execution_count": 11,
   "metadata": {},
   "outputs": [
    {
     "data": {
      "text/html": [
       "<style>#sk-container-id-1 {color: black;background-color: white;}#sk-container-id-1 pre{padding: 0;}#sk-container-id-1 div.sk-toggleable {background-color: white;}#sk-container-id-1 label.sk-toggleable__label {cursor: pointer;display: block;width: 100%;margin-bottom: 0;padding: 0.3em;box-sizing: border-box;text-align: center;}#sk-container-id-1 label.sk-toggleable__label-arrow:before {content: \"▸\";float: left;margin-right: 0.25em;color: #696969;}#sk-container-id-1 label.sk-toggleable__label-arrow:hover:before {color: black;}#sk-container-id-1 div.sk-estimator:hover label.sk-toggleable__label-arrow:before {color: black;}#sk-container-id-1 div.sk-toggleable__content {max-height: 0;max-width: 0;overflow: hidden;text-align: left;background-color: #f0f8ff;}#sk-container-id-1 div.sk-toggleable__content pre {margin: 0.2em;color: black;border-radius: 0.25em;background-color: #f0f8ff;}#sk-container-id-1 input.sk-toggleable__control:checked~div.sk-toggleable__content {max-height: 200px;max-width: 100%;overflow: auto;}#sk-container-id-1 input.sk-toggleable__control:checked~label.sk-toggleable__label-arrow:before {content: \"▾\";}#sk-container-id-1 div.sk-estimator input.sk-toggleable__control:checked~label.sk-toggleable__label {background-color: #d4ebff;}#sk-container-id-1 div.sk-label input.sk-toggleable__control:checked~label.sk-toggleable__label {background-color: #d4ebff;}#sk-container-id-1 input.sk-hidden--visually {border: 0;clip: rect(1px 1px 1px 1px);clip: rect(1px, 1px, 1px, 1px);height: 1px;margin: -1px;overflow: hidden;padding: 0;position: absolute;width: 1px;}#sk-container-id-1 div.sk-estimator {font-family: monospace;background-color: #f0f8ff;border: 1px dotted black;border-radius: 0.25em;box-sizing: border-box;margin-bottom: 0.5em;}#sk-container-id-1 div.sk-estimator:hover {background-color: #d4ebff;}#sk-container-id-1 div.sk-parallel-item::after {content: \"\";width: 100%;border-bottom: 1px solid gray;flex-grow: 1;}#sk-container-id-1 div.sk-label:hover label.sk-toggleable__label {background-color: #d4ebff;}#sk-container-id-1 div.sk-serial::before {content: \"\";position: absolute;border-left: 1px solid gray;box-sizing: border-box;top: 0;bottom: 0;left: 50%;z-index: 0;}#sk-container-id-1 div.sk-serial {display: flex;flex-direction: column;align-items: center;background-color: white;padding-right: 0.2em;padding-left: 0.2em;position: relative;}#sk-container-id-1 div.sk-item {position: relative;z-index: 1;}#sk-container-id-1 div.sk-parallel {display: flex;align-items: stretch;justify-content: center;background-color: white;position: relative;}#sk-container-id-1 div.sk-item::before, #sk-container-id-1 div.sk-parallel-item::before {content: \"\";position: absolute;border-left: 1px solid gray;box-sizing: border-box;top: 0;bottom: 0;left: 50%;z-index: -1;}#sk-container-id-1 div.sk-parallel-item {display: flex;flex-direction: column;z-index: 1;position: relative;background-color: white;}#sk-container-id-1 div.sk-parallel-item:first-child::after {align-self: flex-end;width: 50%;}#sk-container-id-1 div.sk-parallel-item:last-child::after {align-self: flex-start;width: 50%;}#sk-container-id-1 div.sk-parallel-item:only-child::after {width: 0;}#sk-container-id-1 div.sk-dashed-wrapped {border: 1px dashed gray;margin: 0 0.4em 0.5em 0.4em;box-sizing: border-box;padding-bottom: 0.4em;background-color: white;}#sk-container-id-1 div.sk-label label {font-family: monospace;font-weight: bold;display: inline-block;line-height: 1.2em;}#sk-container-id-1 div.sk-label-container {text-align: center;}#sk-container-id-1 div.sk-container {/* jupyter's `normalize.less` sets `[hidden] { display: none; }` but bootstrap.min.css set `[hidden] { display: none !important; }` so we also need the `!important` here to be able to override the default hidden behavior on the sphinx rendered scikit-learn.org. See: https://github.com/scikit-learn/scikit-learn/issues/21755 */display: inline-block !important;position: relative;}#sk-container-id-1 div.sk-text-repr-fallback {display: none;}</style><div id=\"sk-container-id-1\" class=\"sk-top-container\"><div class=\"sk-text-repr-fallback\"><pre>RandomForestClassifier(random_state=42)</pre><b>In a Jupyter environment, please rerun this cell to show the HTML representation or trust the notebook. <br />On GitHub, the HTML representation is unable to render, please try loading this page with nbviewer.org.</b></div><div class=\"sk-container\" hidden><div class=\"sk-item\"><div class=\"sk-estimator sk-toggleable\"><input class=\"sk-toggleable__control sk-hidden--visually\" id=\"sk-estimator-id-1\" type=\"checkbox\" checked><label for=\"sk-estimator-id-1\" class=\"sk-toggleable__label sk-toggleable__label-arrow\">RandomForestClassifier</label><div class=\"sk-toggleable__content\"><pre>RandomForestClassifier(random_state=42)</pre></div></div></div></div></div>"
      ],
      "text/plain": [
       "RandomForestClassifier(random_state=42)"
      ]
     },
     "execution_count": 11,
     "metadata": {},
     "output_type": "execute_result"
    }
   ],
   "source": [
    "# ランダムフォレスト分類器をインスタンス化\n",
    "clf = RandomForestClassifier(n_estimators=100, random_state=42)\n",
    "\n",
    "# モデルの学習\n",
    "clf.fit(X_train_scaled, y_train)"
   ]
  },
  {
   "cell_type": "code",
   "execution_count": 12,
   "metadata": {},
   "outputs": [
    {
     "name": "stdout",
     "output_type": "stream",
     "text": [
      "Confusion Matrix:\n",
      "[[ 198    7    0    0   18   11]\n",
      " [   4  961    0    0    3    3]\n",
      " [   0    0   29    0    1    0]\n",
      " [   0    1    0   32    0    0]\n",
      " [  19    7    0    0  229   11]\n",
      " [   7    6    0    0    3 1026]]\n",
      "\n",
      "Classification Report:\n",
      "              precision    recall  f1-score   support\n",
      "\n",
      "         0.0       0.87      0.85      0.86       234\n",
      "         1.0       0.98      0.99      0.98       971\n",
      "         2.0       1.00      0.97      0.98        30\n",
      "         3.0       1.00      0.97      0.98        33\n",
      "         4.0       0.90      0.86      0.88       266\n",
      "         5.0       0.98      0.98      0.98      1042\n",
      "\n",
      "    accuracy                           0.96      2576\n",
      "   macro avg       0.95      0.94      0.95      2576\n",
      "weighted avg       0.96      0.96      0.96      2576\n",
      "\n",
      "Accuracy Score:\n",
      "0.9607919254658385\n"
     ]
    }
   ],
   "source": [
    "# 予測の実行\n",
    "y_pred = clf.predict(X_test_scaled)\n",
    "\n",
    "# 評価指標の計算\n",
    "print(\"Confusion Matrix:\")\n",
    "print(confusion_matrix(y_test, y_pred))\n",
    "print(\"\\nClassification Report:\")\n",
    "print(classification_report(y_test, y_pred))\n",
    "print(\"Accuracy Score:\")\n",
    "print(accuracy_score(y_test, y_pred))"
   ]
  },
  {
   "cell_type": "code",
   "execution_count": null,
   "metadata": {},
   "outputs": [],
   "source": []
  }
 ],
 "metadata": {
  "kernelspec": {
   "display_name": "deep_env",
   "language": "python",
   "name": "python3"
  },
  "language_info": {
   "codemirror_mode": {
    "name": "ipython",
    "version": 3
   },
   "file_extension": ".py",
   "mimetype": "text/x-python",
   "name": "python",
   "nbconvert_exporter": "python",
   "pygments_lexer": "ipython3",
   "version": "3.8.12"
  }
 },
 "nbformat": 4,
 "nbformat_minor": 2
}
